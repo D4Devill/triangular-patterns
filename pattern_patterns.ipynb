{
 "cells": [
  {
   "cell_type": "code",
   "execution_count": null,
   "id": "c6b8f589",
   "metadata": {},
   "outputs": [],
   "source": [
    "# Lower Triangular Pattern\n",
    "def lower_triangular(n):\n",
    "    for i in range(1, n + 1):\n",
    "        print('*' * i)\n",
    "\n",
    "lower_triangular(5)"
   ]
  },
  {
   "cell_type": "code",
   "execution_count": null,
   "id": "f19cf608",
   "metadata": {},
   "outputs": [],
   "source": [
    "# Upper Triangular Pattern\n",
    "def upper_triangular(n):\n",
    "    for i in range(1, n + 1):\n",
    "        spaces = n - i\n",
    "        print(' ' * spaces + '*' * i)\n",
    "\n",
    "upper_triangular(5)"
   ]
  },
  {
   "cell_type": "code",
   "execution_count": null,
   "id": "8577bb9e",
   "metadata": {},
   "outputs": [],
   "source": [
    "# Pyramid Pattern\n",
    "def pyramid(n):\n",
    "    for i in range(n):\n",
    "        spaces = n - i - 1\n",
    "        stars = 2 * i + 1\n",
    "        print(' ' * spaces + '*' * stars)\n",
    "\n",
    "pyramid(5)"
   ]
  }
 ],
 "metadata": {},
 "nbformat": 4,
 "nbformat_minor": 5
}
